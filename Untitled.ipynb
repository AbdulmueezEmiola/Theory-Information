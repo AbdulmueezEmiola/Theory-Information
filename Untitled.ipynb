{
 "cells": [
  {
   "cell_type": "code",
   "execution_count": 1,
   "id": "lonely-problem",
   "metadata": {},
   "outputs": [
    {
     "name": "stdout",
     "output_type": "stream",
     "text": [
      "[[0.1 0.  0.  0.  0.  0.  0.  0.  0.  0. ]\n",
      " [0.  0.1 0.  0.  0.  0.  0.  0.  0.  0. ]\n",
      " [0.  0.  0.1 0.  0.  0.  0.  0.  0.  0. ]\n",
      " [0.  0.  0.  0.1 0.  0.  0.  0.  0.  0. ]\n",
      " [0.  0.  0.  0.  0.1 0.  0.  0.  0.  0. ]\n",
      " [0.  0.  0.  0.  0.  0.1 0.  0.  0.  0. ]\n",
      " [0.  0.  0.  0.  0.  0.  0.1 0.  0.  0. ]\n",
      " [0.  0.  0.  0.  0.  0.  0.  0.1 0.  0. ]\n",
      " [0.  0.  0.  0.  0.  0.  0.  0.  0.1 0. ]\n",
      " [0.  0.  0.  0.  0.  0.  0.  0.  0.  0.1]]\n"
     ]
    }
   ],
   "source": [
    "import numpy as np\n",
    "import math\n",
    "file_name = \"input.txt\"\n",
    "file = open(file_name)\n",
    "fileContent = file.read()\n",
    "array = fileContent.split(\"\\n\")\n",
    "matrix = []\n",
    "for value in array:\n",
    "    if(len(value)>0):\n",
    "        temp = value.split()\n",
    "        matrix.append([float(i) for i in temp])\n",
    "matrix_prob = np.array(matrix)\n",
    "print(matrix_prob)"
   ]
  },
  {
   "cell_type": "code",
   "execution_count": null,
   "id": "exempt-lincoln",
   "metadata": {},
   "outputs": [],
   "source": []
  },
  {
   "cell_type": "code",
   "execution_count": 3,
   "id": "realistic-wrapping",
   "metadata": {},
   "outputs": [
    {
     "name": "stdout",
     "output_type": "stream",
     "text": [
      "[0.1 0.1 0.1 0.1 0.1 0.1 0.1 0.1 0.1 0.1]\n",
      "3.321928094887362\n"
     ]
    }
   ],
   "source": [
    "def H_X(matrix):\n",
    "    entropy = 0\n",
    "    p_x = np.sum(matrix,axis=1)\n",
    "    print(p_x)\n",
    "    for val in p_x:        \n",
    "        entropy -= val * math.log2(val)\n",
    "    return entropy\n",
    "\n",
    "def H_Y(matrix):\n",
    "    entropy = 0\n",
    "    p_y = np.sum(matrix,axis=0)\n",
    "    for val in p_x:        \n",
    "        entropy -= val * math.log2(val)\n",
    "    return entropy\n",
    "\n",
    "def H_X_cond_Y(matrix):\n",
    "    entropy =0\n",
    "    p_y = np.sum(matrix,axis=0)\n",
    "    for i in range(matrix.shape[0]):    \n",
    "        for j in range(matrix.shape[1]):\n",
    "            temp = matrix[i,j]/p_y[j]\n",
    "            if(temp != 0):\n",
    "                entropy -= temp *math.log2(temp)\n",
    "    return(entropy)\n",
    "\n",
    "def H_Y_cond_X(matrix):\n",
    "    entropy =0\n",
    "    p_x = np.sum(matrix,axis=1)    \n",
    "    for i in range(matrix.shape[0]):\n",
    "        for j in range(matrix.shape[1]):\n",
    "            temp = matrix[i,j]/p_x[i]\n",
    "            if(temp != 0):\n",
    "                entropy -= temp *math.log2(temp)\n",
    "    return(entropy)\n",
    "\n",
    "def H_X_Y(matrix):\n",
    "    entropy =0\n",
    "    for i in range(matrix.shape[0]):\n",
    "        for j in range(matrix.shape[1]):\n",
    "            temp = matrix[i,j]\n",
    "            if(temp != 0):\n",
    "                entropy -= temp *math.log2(temp)\n",
    "    return(entropy)\n",
    "\n",
    "def I_X_Y(matrix):\n",
    "    result = []\n",
    "    p_x = np.sum(matrix,axis=1)    \n",
    "    p_y = np.sum(matrix,axis=0)\n",
    "    for i in range(matrix.shape[0]):\n",
    "        result_x = []\n",
    "        for j in range(matrix.shape[1]):\n",
    "            temp = matrix[i,j]/p_y[j]\n",
    "            I_X = 0 if p_x[i] == 0 else -math.log2(p_x[i])\n",
    "            I_X_Y = 0 if temp == 0 else -math.log2(temp)\n",
    "            result_x.append(I_X-I_X_Y)\n",
    "        result.append(result_x)\n",
    "    return(np.array(result))\n",
    "    \n",
    "    \n",
    "print(H_X(matrix_prob))"
   ]
  },
  {
   "cell_type": "code",
   "execution_count": null,
   "id": "outer-mentor",
   "metadata": {},
   "outputs": [],
   "source": []
  }
 ],
 "metadata": {
  "kernelspec": {
   "display_name": "Python 3",
   "language": "python",
   "name": "python3"
  },
  "language_info": {
   "codemirror_mode": {
    "name": "ipython",
    "version": 3
   },
   "file_extension": ".py",
   "mimetype": "text/x-python",
   "name": "python",
   "nbconvert_exporter": "python",
   "pygments_lexer": "ipython3",
   "version": "3.8.8"
  }
 },
 "nbformat": 4,
 "nbformat_minor": 5
}
