{
 "cells": [
  {
   "cell_type": "code",
   "execution_count": 1,
   "id": "sunrise-netscape",
   "metadata": {},
   "outputs": [],
   "source": [
    "import numpy as np\n",
    "from functools import reduce\n",
    "from scipy.optimize import minimize\n",
    "import copy\n",
    "import re\n",
    "import random\n",
    "\n",
    "def convertNameToBytes(name):\n",
    "    nameBytes = bytearray(name,\"UTF8\")\n",
    "    byte_list=\"\"\n",
    "    for byte in nameBytes:\n",
    "        binary_representation = bin(byte)[2:]\n",
    "        byte_list+=binary_representation\n",
    "    return byte_list\n",
    "\n",
    "def convertBytesToName(value):\n",
    "    val = re.findall('.'*7,value)\n",
    "    value = \"\"\n",
    "    for binary in val:\n",
    "        temp = int(binary,2)\n",
    "        temp_str = chr(temp)\n",
    "        value+= temp_str\n",
    "    return value\n"
   ]
  },
  {
   "cell_type": "code",
   "execution_count": 2,
   "id": "running-rolling",
   "metadata": {},
   "outputs": [],
   "source": [
    "def getHammingEncoding(byte_list):\n",
    "    dataLength = len(byte_list)\n",
    "    messageLength=0\n",
    "    while((dataLength+messageLength+1)>(pow(2,messageLength))):\n",
    "        messageLength = messageLength+1\n",
    "    hammingMessageLength = messageLength+dataLength\n",
    "    hammingMessage =[]\n",
    "    c =0;\n",
    "    j =0;\n",
    "    for i in range(hammingMessageLength):\n",
    "        p=2**c\n",
    "        if(p == (i+1)):\n",
    "            hammingMessage.append(0)\n",
    "            c+=1\n",
    "        else:\n",
    "            hammingMessage.append(int(byte_list[j]))\n",
    "            j+=1\n",
    "    \n",
    "    ch=0\n",
    "    for pos in range(hammingMessageLength):\n",
    "        parity_pos = (2**ch)\n",
    "        if(parity_pos==(pos+1)):\n",
    "            startIndex = parity_pos-1\n",
    "            i = startIndex\n",
    "            toXor =[]\n",
    "            while(i<hammingMessageLength):\n",
    "                block=hammingMessage[i:i+parity_pos]\n",
    "                toXor.extend(block)\n",
    "                i+=2*parity_pos\n",
    "            for z in range(1,len(toXor)):\n",
    "                hammingMessage[startIndex]= hammingMessage[startIndex]^toXor[z]\n",
    "            ch+=1\n",
    "    return hammingMessage\n",
    "\n"
   ]
  },
  {
   "cell_type": "code",
   "execution_count": 3,
   "id": "according-piano",
   "metadata": {},
   "outputs": [],
   "source": [
    "def decodeHamming(encoding):\n",
    "    encodingLength = len(encoding)\n",
    "    temp = copy.deepcopy(encoding);          \n",
    "    ch=0\n",
    "    parity = []\n",
    "    for pos in range(encodingLength):\n",
    "        parity_pos = (2**ch)\n",
    "        if(parity_pos==(pos+1)):\n",
    "            startIndex = parity_pos-1\n",
    "            i = startIndex\n",
    "            toXor =[]\n",
    "            while(i<encodingLength):\n",
    "                block=temp[i:i+parity_pos]\n",
    "                toXor.extend(block)\n",
    "                i+=2*parity_pos\n",
    "            for z in range(1,len(toXor)):\n",
    "                temp[startIndex]= temp[startIndex]^toXor[z]                \n",
    "            parity.append(temp[startIndex])\n",
    "            ch+=1\n",
    "    parityCheck = sum(parity)\n",
    "    \n",
    "    if(parityCheck>=1):        \n",
    "        error = sum(int(parity_list)* (2**i) for i, parity_list in enumerate(parity))                        \n",
    "        encoding[error-1] = 1- encoding[error-1]\n",
    "        \n",
    "    return removeParityBits(encoding)\n",
    "\n",
    "def removeParityBits(decoding):\n",
    "    value =\"\"\n",
    "    ch =0\n",
    "    for pos in range(len(decoding)):\n",
    "        parity_pos = (2**ch)\n",
    "        if(parity_pos != (pos+1)):\n",
    "            value += str(decoding[pos])\n",
    "        else:\n",
    "            ch+=1\n",
    "    return value\n"
   ]
  },
  {
   "cell_type": "code",
   "execution_count": 4,
   "id": "double-anxiety",
   "metadata": {},
   "outputs": [
    {
     "name": "stdout",
     "output_type": "stream",
     "text": [
      "10001011101101110100111011111101100110000110000011100010110010011101011101100110110111101011100101110010111110101001111111000011001011111001110010111011011101001\n"
     ]
    },
    {
     "data": {
      "text/plain": [
       "'EmiolaAbdulmueezOpeyemi'"
      ]
     },
     "execution_count": 4,
     "metadata": {},
     "output_type": "execute_result"
    }
   ],
   "source": [
    "name = \"EmiolaAbdulmueezOpeyemi\"\n",
    "byte_list = convertNameToBytes(name)\n",
    "val = getHammingEncoding(byte_list)\n",
    "pos = random.randint(0,len(val))\n",
    "val[pos] = 1- val[pos]\n",
    "temp = decodeHamming(val)\n",
    "print(temp)\n",
    "convertBytesToName(temp)\n",
    "#re.findall('.'*7,temp)\n",
    "#val = correctCode(bits)"
   ]
  },
  {
   "cell_type": "code",
   "execution_count": 48,
   "id": "headed-annex",
   "metadata": {},
   "outputs": [],
   "source": [
    "def computeAverageRelativeInformation(P_x,P_cond):\n",
    "    P_Y = np.matmul(P_cond,P_x)\n",
    "    temp = -np.sum(P_Y * np.log2(P_Y))\n",
    "    temp2 = np.sum(np.matmul(P_cond*logarithm(P_cond),P_x))\n",
    "    return (temp2 + temp)\n",
    "def logarithm(P):\n",
    "    pos = np.where(P==0,1,P)\n",
    "    return np.log2(pos)"
   ]
  },
  {
   "cell_type": "code",
   "execution_count": 64,
   "id": "successful-reading",
   "metadata": {},
   "outputs": [
    {
     "data": {
      "text/plain": [
       "4.700439718141092"
      ]
     },
     "execution_count": 64,
     "metadata": {},
     "output_type": "execute_result"
    }
   ],
   "source": [
    "alphabetLength = 26\n",
    "p =np.identity(alphabetLength)\n",
    "x =np.ones((alphabetLength,1))/alphabetLength\n",
    "computeAverageRelativeInformation(x,p)"
   ]
  },
  {
   "cell_type": "code",
   "execution_count": null,
   "id": "dominant-yahoo",
   "metadata": {},
   "outputs": [],
   "source": []
  },
  {
   "cell_type": "code",
   "execution_count": null,
   "id": "hawaiian-intention",
   "metadata": {},
   "outputs": [],
   "source": []
  },
  {
   "cell_type": "code",
   "execution_count": null,
   "id": "included-nation",
   "metadata": {},
   "outputs": [],
   "source": []
  },
  {
   "cell_type": "code",
   "execution_count": null,
   "id": "expanded-vertical",
   "metadata": {},
   "outputs": [],
   "source": []
  },
  {
   "cell_type": "code",
   "execution_count": null,
   "id": "affected-debut",
   "metadata": {},
   "outputs": [],
   "source": []
  }
 ],
 "metadata": {
  "kernelspec": {
   "display_name": "Python 3",
   "language": "python",
   "name": "python3"
  },
  "language_info": {
   "codemirror_mode": {
    "name": "ipython",
    "version": 3
   },
   "file_extension": ".py",
   "mimetype": "text/x-python",
   "name": "python",
   "nbconvert_exporter": "python",
   "pygments_lexer": "ipython3",
   "version": "3.8.8"
  }
 },
 "nbformat": 4,
 "nbformat_minor": 5
}
