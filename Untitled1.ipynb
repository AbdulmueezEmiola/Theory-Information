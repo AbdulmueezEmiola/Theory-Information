{
 "cells": [
  {
   "cell_type": "code",
   "execution_count": 1,
   "id": "protecting-maker",
   "metadata": {},
   "outputs": [],
   "source": [
    "file_name = \"./Assignment 2/alphabet.txt\"\n",
    "file = open(file_name)\n",
    "fileContent = file.read()\n",
    "array = fileContent.split(\"\\n\")\n",
    "nodes={}\n",
    "for i in range(0,len(array)):\n",
    "    if(len(array[i])!=0):\n",
    "        val = array[i].split()\n",
    "        nodes[val[0]] = float(val[1])\n"
   ]
  },
  {
   "cell_type": "code",
   "execution_count": 2,
   "id": "aging-admission",
   "metadata": {},
   "outputs": [
    {
     "data": {
      "text/plain": [
       "{'c': '00', 'b': '01', 'a': '1'}"
      ]
     },
     "execution_count": 2,
     "metadata": {},
     "output_type": "execute_result"
    }
   ],
   "source": [
    "import math\n",
    "class NodeTree(object):\n",
    "    def __init__(self,left=None,right=None):\n",
    "        self.left = left\n",
    "        self.right = right\n",
    "    def children(self):\n",
    "        return (self.left,self.right)\n",
    "    def nodes(self):\n",
    "        return(self.left,self.right)\n",
    "    def __str__(self):\n",
    "        return \"%s_%s\"%(self.left,self.right)\n",
    "\n",
    "def huffmanEncoding(nodes):\n",
    "    nodes = sorted(nodes.items(),key = lambda x:x[1],reverse=True)\n",
    "    while len(nodes) >1:\n",
    "        (key1,c1) = nodes[-1]\n",
    "        (key2,c2) = nodes[-2]\n",
    "        nodes = nodes[:-2]\n",
    "        node = NodeTree(key1,key2)\n",
    "        nodes.append((node,c1+c2))\n",
    "    huffmanCode = huffman_code_tree(nodes[0][0])\n",
    "    return huffmanCode\n",
    "def huffman_code_tree(node,binString=''):    \n",
    "    if type(node) is str:\n",
    "        return {node:binString}\n",
    "    (l,r) = node.children()\n",
    "    d = dict()    \n",
    "    d.update(huffman_code_tree(l,binString+'0'))\n",
    "    d.update(huffman_code_tree(r,binString+'1'))\n",
    "    return d\n",
    "huffmanEncoding(nodes)"
   ]
  },
  {
   "cell_type": "code",
   "execution_count": 3,
   "id": "meaning-intranet",
   "metadata": {},
   "outputs": [
    {
     "data": {
      "text/plain": [
       "{'a': '0', 'b': '1100', 'c': '1110'}"
      ]
     },
     "execution_count": 3,
     "metadata": {},
     "output_type": "execute_result"
    }
   ],
   "source": [
    "def computeBinary(value,number):\n",
    "    store =\"\"\n",
    "    for i in range(0,number):\n",
    "        temp = 2*value\n",
    "        val = str(temp).split(\".\");\n",
    "        store += val[0]\n",
    "        if(len(val)>1):\n",
    "            value = float(\"0.\"+val[1])            \n",
    "        else:\n",
    "            value = 0       \n",
    "    return store\n",
    "\n",
    "def shanonEncoding(nodes):\n",
    "    d = dict()\n",
    "    nodes = sorted(nodes.items(),key = lambda x:x[1],reverse=True)\n",
    "    p = [0.0]*len(nodes)\n",
    "    p_sum = [0.0]*len(nodes)\n",
    "    for i in range(0,len(nodes)):\n",
    "        (key1,c1) = nodes[i]\n",
    "        l = math.ceil(-math.log2(c1))        \n",
    "        p[i] = c1\n",
    "        if(i >0):\n",
    "            p_sum[i] += p[i-1]+p_sum[i-1]\n",
    "        d[nodes[i][0]]=computeBinary(p_sum[i],l)\n",
    "    return d\n",
    "shanonEncoding(nodes)"
   ]
  },
  {
   "cell_type": "code",
   "execution_count": 4,
   "id": "rotary-process",
   "metadata": {},
   "outputs": [
    {
     "data": {
      "text/plain": [
       "{'a': '01', 'b': '11011', 'c': '11110'}"
      ]
     },
     "execution_count": 4,
     "metadata": {},
     "output_type": "execute_result"
    }
   ],
   "source": [
    "def shannonFanoEliasCoding(nodes):\n",
    "    d = dict()\n",
    "    nodes = sorted(nodes.items(),key = lambda x:x[1],reverse=True)\n",
    "    p = [0.0]*len(nodes)\n",
    "    p_sum = [0.0]*len(nodes)\n",
    "    for i in range(0,len(nodes)):\n",
    "        (key1,c1) = nodes[i]\n",
    "        l = math.ceil(math.log2(1/c1))+1\n",
    "        f = sum(p)+c1/2\n",
    "        p[i] = c1       \n",
    "        d[nodes[i][0]]=computeBinary(f,l)\n",
    "    return d\n",
    "shannonFanoEliasCoding(nodes)"
   ]
  },
  {
   "cell_type": "code",
   "execution_count": 5,
   "id": "quarterly-pollution",
   "metadata": {},
   "outputs": [
    {
     "data": {
      "text/plain": [
       "{'a': '01', 'b': '01110', 'c': '10000'}"
      ]
     },
     "execution_count": 5,
     "metadata": {},
     "output_type": "execute_result"
    }
   ],
   "source": [
    "def GilbertMura(nodes):\n",
    "    d = dict()\n",
    "    nodes = sorted(nodes.items(),key = lambda x:x[1],reverse=True)\n",
    "    p = [0.0]*len(nodes)\n",
    "    p_sum = [0.0]*len(nodes)\n",
    "    for i in range(0,len(nodes)):\n",
    "        (key1,c1) = nodes[i]\n",
    "        l = math.ceil(-math.log2(c1))+1        \n",
    "        p[i] = c1       \n",
    "        q = sum(p)/2\n",
    "        d[nodes[i][0]]=computeBinary(q,l)\n",
    "    return d\n",
    "GilbertMura(nodes)"
   ]
  },
  {
   "cell_type": "code",
   "execution_count": 11,
   "id": "emotional-cycling",
   "metadata": {},
   "outputs": [],
   "source": [
    "def generateWord(encoding,value):\n",
    "    word = \"\"\n",
    "    for i in range(0,len(value)):\n",
    "        word+=encoding[value[i]]\n",
    "    return word"
   ]
  },
  {
   "cell_type": "code",
   "execution_count": 22,
   "id": "consolidated-explosion",
   "metadata": {},
   "outputs": [],
   "source": [
    "import json\n",
    "file_name = \"./Assignment 2/input.txt\"\n",
    "file = open(file_name)\n",
    "fileContent = file.read()\n",
    "\n",
    "encodingGilbert = GilbertMura(nodes)\n",
    "encodingHuffman = huffmanEncoding(nodes)\n",
    "encodingShannon = shanonEncoding(nodes)\n",
    "encodingShannonFano = shannonFanoEliasCoding(nodes)\n",
    "\n",
    "wordGilbert = generateWord(encodingGilbert,fileContent)\n",
    "wordHuffman = generateWord(encodingHuffman,fileContent)\n",
    "wordShannon = generateWord(encodingShannon,fileContent)\n",
    "wordShannonFano = generateWord(encodingShannonFano,fileContent)\n",
    "\n",
    "a_file = open(\"./Assignment 2/output.txt\",\"w\")\n",
    "a_file.write(\"Gilbert \\n\")\n",
    "a_file.write(\"Encoding \\n\")\n",
    "a_file.write(json.dumps(encodingGilbert))\n",
    "a_file.write(\"\\nEncoded Word\\n\")\n",
    "a_file.write(wordGilbert)\n",
    "\n",
    "a_file.write(\"\\n\\nHuffman \\n\")\n",
    "a_file.write(\"Encoding \\n\")\n",
    "a_file.write(json.dumps(encodingHuffman))\n",
    "a_file.write(\"\\nEncoded Word\\n\")\n",
    "a_file.write(wordHuffman)\n",
    "\n",
    "a_file.write(\"\\n\\nShannon \\n\")\n",
    "a_file.write(\"Encoding \\n\")\n",
    "a_file.write(json.dumps(encodingShannon))\n",
    "a_file.write(\"\\nEncoded Word\\n\")\n",
    "a_file.write(wordShannon)\n",
    "\n",
    "a_file.write(\"\\n\\nShannon Fano \\n\")\n",
    "a_file.write(\"Encoding \\n\")\n",
    "a_file.write(json.dumps(encodingShannonFano))\n",
    "a_file.write(\"\\nEncoded Word\\n\")\n",
    "a_file.write(wordShannonFano)\n",
    "\n",
    "a_file.close()"
   ]
  },
  {
   "cell_type": "code",
   "execution_count": null,
   "id": "cognitive-heading",
   "metadata": {},
   "outputs": [],
   "source": []
  }
 ],
 "metadata": {
  "kernelspec": {
   "display_name": "Python 3",
   "language": "python",
   "name": "python3"
  },
  "language_info": {
   "codemirror_mode": {
    "name": "ipython",
    "version": 3
   },
   "file_extension": ".py",
   "mimetype": "text/x-python",
   "name": "python",
   "nbconvert_exporter": "python",
   "pygments_lexer": "ipython3",
   "version": "3.8.8"
  }
 },
 "nbformat": 4,
 "nbformat_minor": 5
}
